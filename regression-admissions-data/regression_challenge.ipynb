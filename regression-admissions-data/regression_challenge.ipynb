{
 "cells": [
  {
   "cell_type": "markdown",
   "id": "bfe79313",
   "metadata": {},
   "source": [
    "# Deep Learning Regression with TensorFlow"
   ]
  },
  {
   "cell_type": "markdown",
   "id": "b2f27f48",
   "metadata": {},
   "source": [
    "This project is focused on creating a deep learning regression model that predicts the likelihood that a student applying to graduate school will be accepted based on various application factors (such as test scores).\n",
    "\n",
    "By analyzing the parameters in this graduate admissions dataset, I will use TensorFlow with Keras to create a regression model that can evaluate the chances of an applicant being admitted. This is to obtain further insight into the graduate admissions world and improve my test prep strategy."
   ]
  },
  {
   "cell_type": "code",
   "execution_count": 21,
   "id": "9931802e",
   "metadata": {},
   "outputs": [],
   "source": [
    "import pandas as pd\n",
    "import numpy as np\n",
    "import matplotlib.pyplot as plt\n",
    "\n",
    "import tensorflow as tf\n",
    "from tensorflow\timport keras\n",
    "from tensorflow.keras.models import Sequential\n",
    "from tensorflow.keras.callbacks import EarlyStopping\n",
    "from tensorflow.keras import layers\n",
    "\n",
    "from sklearn.model_selection import train_test_split\n",
    "from sklearn.compose import ColumnTransformer\n",
    "from sklearn.preprocessing import StandardScaler\n",
    "from sklearn.metrics import r2_score"
   ]
  },
  {
   "cell_type": "markdown",
   "id": "40967a0b",
   "metadata": {},
   "source": [
    "### Dataset Loading and Observing"
   ]
  },
  {
   "cell_type": "code",
   "execution_count": 22,
   "id": "eab7909d",
   "metadata": {},
   "outputs": [
    {
     "name": "stdout",
     "output_type": "stream",
     "text": [
      "   Serial No.  GRE Score  TOEFL Score  University Rating  SOP  LOR   CGPA  \\\n",
      "0           1        337          118                  4  4.5   4.5  9.65   \n",
      "1           2        324          107                  4  4.0   4.5  8.87   \n",
      "2           3        316          104                  3  3.0   3.5  8.00   \n",
      "3           4        322          110                  3  3.5   2.5  8.67   \n",
      "4           5        314          103                  2  2.0   3.0  8.21   \n",
      "\n",
      "   Research  Chance of Admit   \n",
      "0         1              0.92  \n",
      "1         1              0.76  \n",
      "2         1              0.72  \n",
      "3         1              0.80  \n",
      "4         0              0.65  \n",
      "       Serial No.   GRE Score  TOEFL Score  University Rating         SOP  \\\n",
      "count  500.000000  500.000000   500.000000         500.000000  500.000000   \n",
      "mean   250.500000  316.472000   107.192000           3.114000    3.374000   \n",
      "std    144.481833   11.295148     6.081868           1.143512    0.991004   \n",
      "min      1.000000  290.000000    92.000000           1.000000    1.000000   \n",
      "25%    125.750000  308.000000   103.000000           2.000000    2.500000   \n",
      "50%    250.500000  317.000000   107.000000           3.000000    3.500000   \n",
      "75%    375.250000  325.000000   112.000000           4.000000    4.000000   \n",
      "max    500.000000  340.000000   120.000000           5.000000    5.000000   \n",
      "\n",
      "            LOR         CGPA    Research  Chance of Admit   \n",
      "count  500.00000  500.000000  500.000000         500.00000  \n",
      "mean     3.48400    8.576440    0.560000           0.72174  \n",
      "std      0.92545    0.604813    0.496884           0.14114  \n",
      "min      1.00000    6.800000    0.000000           0.34000  \n",
      "25%      3.00000    8.127500    0.000000           0.63000  \n",
      "50%      3.50000    8.560000    1.000000           0.72000  \n",
      "75%      4.00000    9.040000    1.000000           0.82000  \n",
      "max      5.00000    9.920000    1.000000           0.97000  \n"
     ]
    }
   ],
   "source": [
    "#For reproducibility of result, same seed is used for random number generator \n",
    "tf.random.set_seed(42)\n",
    "\n",
    "dataset = pd.read_csv('admissions_data.csv')\n",
    "print(dataset.head())\n",
    "print(dataset.describe())"
   ]
  },
  {
   "cell_type": "code",
   "execution_count": 23,
   "id": "3e87fd46",
   "metadata": {},
   "outputs": [
    {
     "name": "stdout",
     "output_type": "stream",
     "text": [
      "Serial No.             int64\n",
      "GRE Score              int64\n",
      "TOEFL Score            int64\n",
      "University Rating      int64\n",
      "SOP                  float64\n",
      "LOR                  float64\n",
      "CGPA                 float64\n",
      "Research               int64\n",
      "Chance of Admit      float64\n",
      "dtype: object\n"
     ]
    }
   ],
   "source": [
    "print(dataset.dtypes)"
   ]
  },
  {
   "cell_type": "code",
   "execution_count": 24,
   "id": "36dacd4b",
   "metadata": {},
   "outputs": [],
   "source": [
    "#dataset does not have categorical variables\n",
    "#no need for one-hot encoding\n",
    "dataset = dataset.drop('Serial No.', axis=1) #drop serial no. not relevant\n",
    "labels = dataset.iloc[:, -1]\n",
    "features = dataset.iloc[:, 0:-1]"
   ]
  },
  {
   "cell_type": "markdown",
   "id": "f18a30ef",
   "metadata": {},
   "source": [
    "### Data Preprocessing"
   ]
  },
  {
   "cell_type": "code",
   "execution_count": 25,
   "id": "c71984bc",
   "metadata": {},
   "outputs": [],
   "source": [
    "#do train test split\n",
    "features_train, features_test, labels_train, labels_test = train_test_split(features, labels, test_size=0.33, random_state=42)\n",
    "#standardise\n",
    "ct = ColumnTransformer([('only numeric', StandardScaler(), features.columns)], remainder='passthrough')\n",
    "features_train_scaled = ct.fit_transform(features_train)\n",
    "features_test_scaled = ct.transform(features_test)"
   ]
  },
  {
   "cell_type": "markdown",
   "id": "f64cbba0",
   "metadata": {},
   "source": [
    "### Building, Fitting and Evaluating the Model"
   ]
  },
  {
   "cell_type": "code",
   "execution_count": 32,
   "id": "7b5cace9",
   "metadata": {},
   "outputs": [],
   "source": [
    "#designing model with regularization to prevent overfitting\n",
    "def design_model():\n",
    "    X = features_train_scaled\n",
    "    learning_rate = 0.001\n",
    "    \n",
    "    model = Sequential()\n",
    "    \n",
    "    #input layer\n",
    "    input = tf.keras.Input(shape=(X.shape[1],))\n",
    "    model.add(input)\n",
    "    \n",
    "    #hidden layer\n",
    "    model.add(layers.Dense(128, activation='relu'))\n",
    "    model.add(layers.Dropout(0.1))\n",
    "    model.add(layers.Dense(64, activation='relu'))\n",
    "    model.add(layers.Dropout(0.2))\n",
    "    model.add(layers.Dense(24, activation='relu'))\n",
    "    model.add(layers.Dropout(0.3))\n",
    "    \n",
    "    #output layer\n",
    "    model.add(layers.Dense(1))\n",
    "    \n",
    "    #optimize\n",
    "    opt = tf.keras.optimizers.Adam(learning_rate = learning_rate)\n",
    "    model.compile(loss='mse', metrics=['mae'], optimizer=opt)\n",
    "    \n",
    "    return model"
   ]
  },
  {
   "cell_type": "markdown",
   "id": "dd34c65d",
   "metadata": {},
   "source": [
    "### Automating hyperparameter tuning"
   ]
  },
  {
   "cell_type": "code",
   "execution_count": 39,
   "id": "2b325212",
   "metadata": {},
   "outputs": [
    {
     "name": "stdout",
     "output_type": "stream",
     "text": [
      "-------------- RANDOMIZED SEARCH --------------------\n",
      "10/10 [==============================] - 0s 2ms/step\n",
      "10/10 [==============================] - 0s 2ms/step\n",
      "10/10 [==============================] - 0s 2ms/step\n",
      "10/10 [==============================] - 0s 3ms/step\n",
      "10/10 [==============================] - 0s 3ms/step\n",
      "8/8 [==============================] - 0s 2ms/step\n",
      "8/8 [==============================] - 0s 2ms/step\n",
      "8/8 [==============================] - 0s 3ms/step\n",
      "8/8 [==============================] - 0s 2ms/step\n",
      "8/8 [==============================] - 0s 3ms/step\n",
      "9/9 [==============================] - 0s 3ms/step\n",
      "9/9 [==============================] - 0s 3ms/step\n",
      "9/9 [==============================] - 0s 3ms/step\n",
      "9/9 [==============================] - 0s 2ms/step\n",
      "9/9 [==============================] - 0s 3ms/step\n",
      "23/23 [==============================] - 0s 3ms/step\n",
      "23/23 [==============================] - 0s 2ms/step\n",
      "23/23 [==============================] - 0s 2ms/step\n",
      "23/23 [==============================] - 0s 2ms/step\n",
      "23/23 [==============================] - 0s 2ms/step\n",
      "6/6 [==============================] - 0s 3ms/step\n",
      "6/6 [==============================] - 0s 2ms/step\n",
      "6/6 [==============================] - 0s 2ms/step\n",
      "6/6 [==============================] - 0s 3ms/step\n",
      "6/6 [==============================] - 0s 2ms/step\n",
      "23/23 [==============================] - 0s 3ms/step\n",
      "23/23 [==============================] - 0s 2ms/step\n",
      "23/23 [==============================] - 0s 2ms/step\n",
      "23/23 [==============================] - 0s 1ms/step\n",
      "23/23 [==============================] - 0s 2ms/step\n",
      "12/12 [==============================] - 0s 3ms/step\n",
      "12/12 [==============================] - 0s 2ms/step\n",
      "12/12 [==============================] - 0s 3ms/step\n",
      "12/12 [==============================] - 0s 2ms/step\n",
      "12/12 [==============================] - 0s 2ms/step\n",
      "5/5 [==============================] - 0s 2ms/step\n",
      "5/5 [==============================] - 0s 3ms/step\n",
      "5/5 [==============================] - 0s 3ms/step\n",
      "5/5 [==============================] - 0s 2ms/step\n",
      "5/5 [==============================] - 0s 3ms/step\n",
      "6/6 [==============================] - 0s 3ms/step\n",
      "6/6 [==============================] - 0s 3ms/step\n",
      "6/6 [==============================] - 0s 3ms/step\n",
      "6/6 [==============================] - 0s 3ms/step\n",
      "6/6 [==============================] - 0s 3ms/step\n",
      "8/8 [==============================] - 0s 3ms/step\n",
      "8/8 [==============================] - 0s 3ms/step\n",
      "8/8 [==============================] - 0s 2ms/step\n",
      "8/8 [==============================] - 0s 1ms/step\n",
      "8/8 [==============================] - 0s 1ms/step\n",
      "8/8 [==============================] - 0s 2ms/step\n",
      "8/8 [==============================] - 0s 4ms/step\n",
      "8/8 [==============================] - 0s 3ms/step\n",
      "8/8 [==============================] - 0s 2ms/step\n",
      "8/8 [==============================] - 0s 3ms/step\n",
      "9/9 [==============================] - 0s 3ms/step\n",
      "9/9 [==============================] - 0s 2ms/step\n",
      "9/9 [==============================] - 0s 2ms/step\n",
      "9/9 [==============================] - 0s 3ms/step\n",
      "9/9 [==============================] - 0s 2ms/step\n",
      "RandomizedSearchCV(estimator=KerasRegressor(model=<function design_model at 0x000001AD46B71D00>),\n",
      "                   n_iter=12,\n",
      "                   param_distributions={'batch_size': <scipy.stats._distn_infrastructure.rv_discrete_frozen object at 0x000001AD45667650>,\n",
      "                                        'epochs': <scipy.stats._distn_infrastructure.rv_discrete_frozen object at 0x000001AD45045290>},\n",
      "                   scoring=make_scorer(mean_squared_error, greater_is_better=False))\n",
      "Best: -0.004291 using {'batch_size': 8, 'epochs': 95}\n",
      "-0.004748 (0.001106) with: {'batch_size': 7, 'epochs': 158}\n",
      "-0.005891 (0.001195) with: {'batch_size': 9, 'epochs': 25}\n",
      "-0.004428 (0.000746) with: {'batch_size': 8, 'epochs': 88}\n",
      "-0.004506 (0.000871) with: {'batch_size': 3, 'epochs': 99}\n",
      "-0.004942 (0.000603) with: {'batch_size': 13, 'epochs': 76}\n",
      "-0.004513 (0.000786) with: {'batch_size': 3, 'epochs': 100}\n",
      "-0.004745 (0.000749) with: {'batch_size': 6, 'epochs': 174}\n",
      "-0.004612 (0.000519) with: {'batch_size': 14, 'epochs': 165}\n",
      "-0.004592 (0.000615) with: {'batch_size': 12, 'epochs': 72}\n",
      "-0.004387 (0.000518) with: {'batch_size': 9, 'epochs': 113}\n",
      "-0.004386 (0.000781) with: {'batch_size': 9, 'epochs': 156}\n",
      "-0.004291 (0.000595) with: {'batch_size': 8, 'epochs': 95}\n"
     ]
    }
   ],
   "source": [
    "#randomized search\n",
    "from sklearn.model_selection import RandomizedSearchCV\n",
    "from scipy.stats import randint as sp_randint\n",
    "import scikeras\n",
    "from scikeras.wrappers import KerasRegressor\n",
    "from sklearn.metrics import mean_squared_error\n",
    "from sklearn.metrics import make_scorer\n",
    "\n",
    "def do_randomized_search():\n",
    "  param_grid = {'batch_size': sp_randint(2, 16), 'epochs': sp_randint(10, 200)}\n",
    "  #param_grid = {'batch_size': sp_randint(2, 16)}\n",
    "  model = KerasRegressor(model=design_model)\n",
    "  grid = RandomizedSearchCV(estimator = model, param_distributions=param_grid, scoring = make_scorer(mean_squared_error, greater_is_better=False), n_iter = 12)\n",
    "  grid_result = grid.fit(features_train_scaled, labels_train, verbose = 0)\n",
    "  print(grid_result)\n",
    "  print(\"Best: %f using %s\" % (grid_result.best_score_, grid_result.best_params_))\n",
    "\n",
    "  means = grid_result.cv_results_['mean_test_score']\n",
    "  stds = grid_result.cv_results_['std_test_score']\n",
    "  params = grid_result.cv_results_['params']\n",
    "  for mean, stdev, param in zip(means, stds, params):\n",
    "      print(\"%f (%f) with: %r\" % (mean, stdev, param))\n",
    "\n",
    "print(\"-------------- RANDOMIZED SEARCH --------------------\")\n",
    "do_randomized_search()\n",
    "\n"
   ]
  },
  {
   "cell_type": "markdown",
   "id": "be2e6d0d",
   "metadata": {},
   "source": [
    "Best results with MSE value of -0.004291 has a batch_size of 8 and epochs of 95, given a learning rate of 0.001. "
   ]
  },
  {
   "cell_type": "markdown",
   "id": "6918e178",
   "metadata": {},
   "source": [
    "### Regularization - early stopping"
   ]
  },
  {
   "cell_type": "code",
   "execution_count": 46,
   "id": "b419e84a",
   "metadata": {},
   "outputs": [
    {
     "name": "stdout",
     "output_type": "stream",
     "text": [
      "Epoch 90: early stopping\n"
     ]
    }
   ],
   "source": [
    "def fit_model(model, f_train, l_train, learning_rate, num_epochs, batch_size):\n",
    "    #train model on training data\n",
    "    es = EarlyStopping(monitor='val_loss', mode='min', verbose=1, patience=20)\n",
    "    history = model.fit(f_train, l_train, epochs=num_epochs, batch_size=batch_size, verbose=0, validation_split=0.2, callbacks=[es])\n",
    "    \n",
    "    return history\n",
    "\n",
    "#using early stopping in fit_model\n",
    "learning_rate = 0.001\n",
    "num_epochs = 200\n",
    "batch_size = 8\n",
    "\n",
    "#train model with dropout\n",
    "history = fit_model(design_model(), features_train_scaled, labels_train, learning_rate, num_epochs, batch_size)"
   ]
  },
  {
   "cell_type": "markdown",
   "id": "bfa5c028",
   "metadata": {},
   "source": [
    "#### Plotting"
   ]
  },
  {
   "cell_type": "code",
   "execution_count": 47,
   "id": "3ef799ff",
   "metadata": {},
   "outputs": [
    {
     "data": {
      "image/png": "[encoded data removed]",
      "text/plain": [
       "<Figure size 640x480 with 2 Axes>"
      ]
     },
     "metadata": {},
     "output_type": "display_data"
    }
   ],
   "source": [
    "import matplotlib.pyplot as plt\n",
    "\n",
    "\n",
    "def plot(history, path):\n",
    "  #plotting\n",
    "  fig, axs = plt.subplots(1, 2, gridspec_kw={'hspace': 1, 'wspace': 0.5}) \n",
    "  (ax1, ax2) = axs\n",
    "  ax1.plot(history.history['loss'], label='train')\n",
    "  ax1.plot(history.history['val_loss'], label='validation')\n",
    "  ax1.legend(loc=\"upper right\")\n",
    "  ax1.set_xlabel(\"# of epochs\")\n",
    "  ax1.set_ylabel(\"loss (mse)\")\n",
    "\n",
    "  ax2.plot(history.history['mae'], label='train')\n",
    "  ax2.plot(history.history['val_mae'], label='validation')\n",
    "  ax2.legend(loc=\"upper right\")\n",
    "  ax2.set_xlabel(\"# of epochs\")\n",
    "  ax2.set_ylabel(\"MAE\")\n",
    "\n",
    "  plt.savefig(path)\n",
    "    \n",
    "plot(history, 'with_dropout.png')"
   ]
  },
  {
   "cell_type": "markdown",
   "id": "cef6e98e",
   "metadata": {},
   "source": [
    "#### Figure: learning curves with dropout"
   ]
  },
  {
   "cell_type": "markdown",
   "id": "f0b78049",
   "metadata": {},
   "source": [
    "### Fitting model with optimal parameters"
   ]
  },
  {
   "cell_type": "code",
   "execution_count": 49,
   "id": "4e8a460b",
   "metadata": {},
   "outputs": [
    {
     "name": "stdout",
     "output_type": "stream",
     "text": [
      "Epoch 1/90\n",
      "42/42 [==============================] - 3s 3ms/step - loss: 0.2876 - mae: 0.4518\n",
      "Epoch 2/90\n",
      "42/42 [==============================] - 0s 3ms/step - loss: 0.0937 - mae: 0.2551\n",
      "Epoch 3/90\n",
      "42/42 [==============================] - 0s 3ms/step - loss: 0.0657 - mae: 0.2095\n",
      "Epoch 4/90\n",
      "42/42 [==============================] - 0s 3ms/step - loss: 0.0589 - mae: 0.1974\n",
      "Epoch 5/90\n",
      "42/42 [==============================] - 0s 3ms/step - loss: 0.0554 - mae: 0.1909\n",
      "Epoch 6/90\n",
      "42/42 [==============================] - 0s 3ms/step - loss: 0.0490 - mae: 0.1755\n",
      "Epoch 7/90\n",
      "42/42 [==============================] - 0s 3ms/step - loss: 0.0471 - mae: 0.1724\n",
      "Epoch 8/90\n",
      "42/42 [==============================] - 0s 3ms/step - loss: 0.0350 - mae: 0.1499\n",
      "Epoch 9/90\n",
      "42/42 [==============================] - 0s 3ms/step - loss: 0.0382 - mae: 0.1513\n",
      "Epoch 10/90\n",
      "42/42 [==============================] - 0s 3ms/step - loss: 0.0326 - mae: 0.1425\n",
      "Epoch 11/90\n",
      "42/42 [==============================] - 0s 3ms/step - loss: 0.0321 - mae: 0.1458\n",
      "Epoch 12/90\n",
      "42/42 [==============================] - 0s 2ms/step - loss: 0.0267 - mae: 0.1312\n",
      "Epoch 13/90\n",
      "42/42 [==============================] - 0s 3ms/step - loss: 0.0301 - mae: 0.1384\n",
      "Epoch 14/90\n",
      "42/42 [==============================] - 0s 3ms/step - loss: 0.0273 - mae: 0.1314\n",
      "Epoch 15/90\n",
      "42/42 [==============================] - 0s 3ms/step - loss: 0.0259 - mae: 0.1295\n",
      "Epoch 16/90\n",
      "42/42 [==============================] - 0s 3ms/step - loss: 0.0226 - mae: 0.1206\n",
      "Epoch 17/90\n",
      "42/42 [==============================] - 0s 3ms/step - loss: 0.0250 - mae: 0.1257\n",
      "Epoch 18/90\n",
      "42/42 [==============================] - 0s 3ms/step - loss: 0.0202 - mae: 0.1139\n",
      "Epoch 19/90\n",
      "42/42 [==============================] - 0s 3ms/step - loss: 0.0214 - mae: 0.1153\n",
      "Epoch 20/90\n",
      "42/42 [==============================] - 0s 3ms/step - loss: 0.0187 - mae: 0.1098\n",
      "Epoch 21/90\n",
      "42/42 [==============================] - 0s 4ms/step - loss: 0.0198 - mae: 0.1094\n",
      "Epoch 22/90\n",
      "42/42 [==============================] - 0s 3ms/step - loss: 0.0213 - mae: 0.1166\n",
      "Epoch 23/90\n",
      "42/42 [==============================] - 0s 3ms/step - loss: 0.0176 - mae: 0.1053\n",
      "Epoch 24/90\n",
      "42/42 [==============================] - 0s 4ms/step - loss: 0.0181 - mae: 0.1077\n",
      "Epoch 25/90\n",
      "42/42 [==============================] - 0s 3ms/step - loss: 0.0159 - mae: 0.1008\n",
      "Epoch 26/90\n",
      "42/42 [==============================] - 0s 3ms/step - loss: 0.0166 - mae: 0.1033\n",
      "Epoch 27/90\n",
      "42/42 [==============================] - 0s 3ms/step - loss: 0.0148 - mae: 0.0961\n",
      "Epoch 28/90\n",
      "42/42 [==============================] - 0s 3ms/step - loss: 0.0142 - mae: 0.0948\n",
      "Epoch 29/90\n",
      "42/42 [==============================] - 0s 3ms/step - loss: 0.0116 - mae: 0.0862\n",
      "Epoch 30/90\n",
      "42/42 [==============================] - 0s 3ms/step - loss: 0.0134 - mae: 0.0935\n",
      "Epoch 31/90\n",
      "42/42 [==============================] - 0s 3ms/step - loss: 0.0127 - mae: 0.0892\n",
      "Epoch 32/90\n",
      "42/42 [==============================] - 0s 3ms/step - loss: 0.0125 - mae: 0.0902\n",
      "Epoch 33/90\n",
      "42/42 [==============================] - 0s 3ms/step - loss: 0.0121 - mae: 0.0857\n",
      "Epoch 34/90\n",
      "42/42 [==============================] - 0s 3ms/step - loss: 0.0108 - mae: 0.0810\n",
      "Epoch 35/90\n",
      "42/42 [==============================] - 0s 4ms/step - loss: 0.0119 - mae: 0.0872\n",
      "Epoch 36/90\n",
      "42/42 [==============================] - 0s 3ms/step - loss: 0.0129 - mae: 0.0890\n",
      "Epoch 37/90\n",
      "42/42 [==============================] - 0s 3ms/step - loss: 0.0107 - mae: 0.0828\n",
      "Epoch 38/90\n",
      "42/42 [==============================] - 0s 3ms/step - loss: 0.0107 - mae: 0.0823\n",
      "Epoch 39/90\n",
      "42/42 [==============================] - 0s 3ms/step - loss: 0.0107 - mae: 0.0793\n",
      "Epoch 40/90\n",
      "42/42 [==============================] - 0s 3ms/step - loss: 0.0102 - mae: 0.0796\n",
      "Epoch 41/90\n",
      "42/42 [==============================] - 0s 3ms/step - loss: 0.0088 - mae: 0.0741\n",
      "Epoch 42/90\n",
      "42/42 [==============================] - 0s 4ms/step - loss: 0.0093 - mae: 0.0747\n",
      "Epoch 43/90\n",
      "42/42 [==============================] - 0s 3ms/step - loss: 0.0076 - mae: 0.0691\n",
      "Epoch 44/90\n",
      "42/42 [==============================] - 0s 3ms/step - loss: 0.0088 - mae: 0.0723\n",
      "Epoch 45/90\n",
      "42/42 [==============================] - 0s 3ms/step - loss: 0.0093 - mae: 0.0767\n",
      "Epoch 46/90\n",
      "42/42 [==============================] - 0s 3ms/step - loss: 0.0088 - mae: 0.0738\n",
      "Epoch 47/90\n",
      "42/42 [==============================] - 0s 3ms/step - loss: 0.0075 - mae: 0.0677\n",
      "Epoch 48/90\n",
      "42/42 [==============================] - 0s 3ms/step - loss: 0.0073 - mae: 0.0664\n",
      "Epoch 49/90\n",
      "42/42 [==============================] - 0s 3ms/step - loss: 0.0070 - mae: 0.0670\n",
      "Epoch 50/90\n",
      "42/42 [==============================] - 0s 4ms/step - loss: 0.0066 - mae: 0.0644\n",
      "Epoch 51/90\n",
      "42/42 [==============================] - 0s 3ms/step - loss: 0.0063 - mae: 0.0643\n",
      "Epoch 52/90\n",
      "42/42 [==============================] - 0s 3ms/step - loss: 0.0068 - mae: 0.0658\n",
      "Epoch 53/90\n",
      "42/42 [==============================] - 0s 4ms/step - loss: 0.0074 - mae: 0.0655\n",
      "Epoch 54/90\n",
      "42/42 [==============================] - 0s 4ms/step - loss: 0.0066 - mae: 0.0636\n",
      "Epoch 55/90\n",
      "42/42 [==============================] - 0s 3ms/step - loss: 0.0062 - mae: 0.0621\n",
      "Epoch 56/90\n",
      "42/42 [==============================] - 0s 3ms/step - loss: 0.0062 - mae: 0.0621\n",
      "Epoch 57/90\n",
      "42/42 [==============================] - 0s 3ms/step - loss: 0.0069 - mae: 0.0635\n",
      "Epoch 58/90\n",
      "42/42 [==============================] - 0s 3ms/step - loss: 0.0061 - mae: 0.0600\n",
      "Epoch 59/90\n",
      "42/42 [==============================] - 0s 3ms/step - loss: 0.0054 - mae: 0.0578\n",
      "Epoch 60/90\n",
      "42/42 [==============================] - 0s 3ms/step - loss: 0.0057 - mae: 0.0595\n",
      "Epoch 61/90\n",
      "42/42 [==============================] - 0s 3ms/step - loss: 0.0058 - mae: 0.0604\n",
      "Epoch 62/90\n",
      "42/42 [==============================] - 0s 3ms/step - loss: 0.0060 - mae: 0.0598\n",
      "Epoch 63/90\n",
      "42/42 [==============================] - 0s 3ms/step - loss: 0.0058 - mae: 0.0572\n",
      "Epoch 64/90\n",
      "42/42 [==============================] - 0s 3ms/step - loss: 0.0055 - mae: 0.0573\n",
      "Epoch 65/90\n",
      "42/42 [==============================] - 0s 3ms/step - loss: 0.0051 - mae: 0.0568\n",
      "Epoch 66/90\n",
      "42/42 [==============================] - 0s 3ms/step - loss: 0.0055 - mae: 0.0573\n",
      "Epoch 67/90\n",
      "42/42 [==============================] - 0s 3ms/step - loss: 0.0048 - mae: 0.0537\n",
      "Epoch 68/90\n",
      "42/42 [==============================] - 0s 3ms/step - loss: 0.0058 - mae: 0.0605\n",
      "Epoch 69/90\n",
      "42/42 [==============================] - 0s 3ms/step - loss: 0.0049 - mae: 0.0537\n",
      "Epoch 70/90\n",
      "42/42 [==============================] - 0s 3ms/step - loss: 0.0046 - mae: 0.0521\n",
      "Epoch 71/90\n",
      "42/42 [==============================] - 0s 3ms/step - loss: 0.0048 - mae: 0.0549\n",
      "Epoch 72/90\n",
      "42/42 [==============================] - 0s 3ms/step - loss: 0.0051 - mae: 0.0554\n",
      "Epoch 73/90\n",
      "42/42 [==============================] - 0s 3ms/step - loss: 0.0050 - mae: 0.0546\n",
      "Epoch 74/90\n",
      "42/42 [==============================] - 0s 3ms/step - loss: 0.0048 - mae: 0.0547\n",
      "Epoch 75/90\n",
      "42/42 [==============================] - 0s 3ms/step - loss: 0.0051 - mae: 0.0557\n",
      "Epoch 76/90\n",
      "42/42 [==============================] - 0s 3ms/step - loss: 0.0051 - mae: 0.0539\n",
      "Epoch 77/90\n",
      "42/42 [==============================] - 0s 3ms/step - loss: 0.0042 - mae: 0.0513\n",
      "Epoch 78/90\n",
      "42/42 [==============================] - 0s 3ms/step - loss: 0.0049 - mae: 0.0537\n",
      "Epoch 79/90\n",
      "42/42 [==============================] - 0s 3ms/step - loss: 0.0045 - mae: 0.0506\n",
      "Epoch 80/90\n",
      "42/42 [==============================] - 0s 3ms/step - loss: 0.0049 - mae: 0.0548\n",
      "Epoch 81/90\n",
      "42/42 [==============================] - 0s 3ms/step - loss: 0.0047 - mae: 0.0537\n",
      "Epoch 82/90\n",
      "42/42 [==============================] - 0s 3ms/step - loss: 0.0046 - mae: 0.0531\n",
      "Epoch 83/90\n",
      "42/42 [==============================] - 0s 3ms/step - loss: 0.0045 - mae: 0.0516\n",
      "Epoch 84/90\n",
      "42/42 [==============================] - 0s 3ms/step - loss: 0.0043 - mae: 0.0501\n",
      "Epoch 85/90\n",
      "42/42 [==============================] - 0s 3ms/step - loss: 0.0045 - mae: 0.0526\n",
      "Epoch 86/90\n",
      "42/42 [==============================] - 0s 3ms/step - loss: 0.0046 - mae: 0.0514\n",
      "Epoch 87/90\n",
      "42/42 [==============================] - 0s 3ms/step - loss: 0.0043 - mae: 0.0499\n",
      "Epoch 88/90\n"
     ]
    },
    {
     "name": "stdout",
     "output_type": "stream",
     "text": [
      "42/42 [==============================] - 0s 3ms/step - loss: 0.0042 - mae: 0.0504\n",
      "Epoch 89/90\n",
      "42/42 [==============================] - 0s 3ms/step - loss: 0.0041 - mae: 0.0487\n",
      "Epoch 90/90\n",
      "42/42 [==============================] - 0s 3ms/step - loss: 0.0040 - mae: 0.0504\n",
      "0.004441332072019577 0.048800647258758545\n"
     ]
    }
   ],
   "source": [
    "optimal_model = design_model()\n",
    "optimal_model.fit(features_train_scaled, labels_train,  epochs=90, batch_size = 8, verbose = 1)\n",
    "res_mse, res_mae = optimal_model.evaluate(features_test_scaled, labels_test, verbose = 0)\n",
    "print(res_mse, res_mae)"
   ]
  },
  {
   "cell_type": "code",
   "execution_count": 51,
   "id": "976b094e",
   "metadata": {},
   "outputs": [
    {
     "name": "stdout",
     "output_type": "stream",
     "text": [
      "6/6 [==============================] - 0s 4ms/step\n",
      "0.7844369481523427\n"
     ]
    }
   ],
   "source": [
    "predicted_values = optimal_model.predict(features_test_scaled) \n",
    "print(r2_score(labels_test, predicted_values)) "
   ]
  },
  {
   "cell_type": "markdown",
   "id": "1aef06d8",
   "metadata": {},
   "source": [
    "With an R-squared score of approximately 0.8, a large proportion of the variance of our dependent variable; chance of admission score, can be explained by the various independent variables (test scores, etc). Hence, the model fits the data well."
   ]
  },
  {
   "cell_type": "code",
   "execution_count": null,
   "id": "61dda86a",
   "metadata": {},
   "outputs": [],
   "source": []
  }
 ],
 "metadata": {
  "kernelspec": {
   "display_name": "Python 3 (ipykernel)",
   "language": "python",
   "name": "python3"
  },
  "language_info": {
   "codemirror_mode": {
    "name": "ipython",
    "version": 3
   },
   "file_extension": ".py",
   "mimetype": "text/x-python",
   "name": "python",
   "nbconvert_exporter": "python",
   "pygments_lexer": "ipython3",
   "version": "3.11.4"
  }
 },
 "nbformat": 4,
 "nbformat_minor": 5
}
